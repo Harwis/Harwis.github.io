{
 "cells": [
  {
   "cell_type": "markdown",
   "metadata": {
    "collapsed": true,
    "pycharm": {
     "name": "#%% md\n"
    }
   },
   "source": [
    "# Why python?\n",
    "Python is an interpreted, object-oriented, high-level programming language with dynamic semantics. Its high-level built-in data structures, combined with dynamic typing and dynamic binding, make it very attractive for rapid application development, as well as for use as a scripting or glue language to connect existing components. Python's simple, easy to learn syntax emphasizes readability and therefore reduces the cost of program maintenance. It is available on Windows, macOS, and Unix operating systems, and will help you get the job done more quickly. Python supports modules and packages, which encourages program modularity and code reuse. The Python interpreter and the extensive standard library are available in source or binary form without charge for all major platforms and can be freely distributed. Python can be installed independently, however, I recommend installing Anaconda and Pycharm to make your job easier and nicer.\n",
    "\n",
    "Ease of Learning and Use: Python has a simple and readable syntax that makes it accessible to beginners. Its emphasis on readability and straightforwardness reduces the learning curve, allowing developers to write code more efficiently.\n",
    "\n",
    "Versatility: Python is a versatile language that can be used for a wide range of applications, including web development, data analysis, artificial intelligence, scientific computing, automation, and more. This versatility has contributed to its widespread adoption across various domains.\n",
    "\n",
    "Large Standard Library and Active Community: Python's standard library is extensive, providing modules and packages for tasks ranging from web development to data analysis. Additionally, Python has a vibrant community that contributes to its ecosystem with open-source libraries and frameworks, fostering innovation and rapid development.\n",
    "\n",
    "Data Science and Machine Learning: Python has become the de facto language for data science and machine learning due to libraries such as NumPy, Pandas, SciPy, and scikit-learn. The simplicity of syntax and the availability of these powerful libraries have made Python a top choice for data professionals.\n",
    "\n",
    "Support for Automation: Python's capabilities in automation, scripting, and integration with other languages and systems (via libraries like PySpark, TensorFlow, etc.) make it a preferred language for DevOps tasks and system administration."
   ]
  },
  {
   "cell_type": "markdown",
   "metadata": {
    "pycharm": {
     "name": "#%% md\n"
    }
   },
   "source": [
    "<img src=\"../images/python_sta.jpg\" width=\"500\" height=\"690\" >"
   ]
  },
  {
   "cell_type": "code",
   "execution_count": 2,
   "metadata": {
    "pycharm": {
     "name": "#%%\n"
    }
   },
   "outputs": [
    {
     "name": "stdout",
     "output_type": "stream",
     "text": [
      "5\n"
     ]
    }
   ],
   "source": [
    "x = 3 + 2\n",
    "print(x)"
   ]
  }
 ],
 "metadata": {
  "kernelspec": {
   "display_name": "Python 3 (ipykernel)",
   "language": "python",
   "name": "python3"
  },
  "language_info": {
   "codemirror_mode": {
    "name": "ipython",
    "version": 3
   },
   "file_extension": ".py",
   "mimetype": "text/x-python",
   "name": "python",
   "nbconvert_exporter": "python",
   "pygments_lexer": "ipython3",
   "version": "3.9.7"
  }
 },
 "nbformat": 4,
 "nbformat_minor": 1
}