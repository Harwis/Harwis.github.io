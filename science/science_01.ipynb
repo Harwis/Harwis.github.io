{
 "cells": [
  {
   "cell_type": "markdown",
   "id": "a71cd79b1a5050c4",
   "metadata": {},
   "source": [
    "# The mysteries of light 1: What is light?\n",
    "Please see my YouTube channel to see more interesting demos."
   ]
  },
  {
   "cell_type": "markdown",
   "id": "8d4f6478c78bcf4c",
   "metadata": {},
   "source": [
    "First, we need to import the packages we will use."
   ]
  },
  {
   "cell_type": "code",
   "execution_count": 1,
   "id": "5ffff4bf8b04cc8b",
   "metadata": {
    "ExecuteTime": {
     "end_time": "2024-07-18T06:12:16.152201Z",
     "start_time": "2024-07-18T06:12:16.009910Z"
    }
   },
   "outputs": [],
   "source": [
    "import numpy as np\n",
    "from matplotlib import pyplot as plt"
   ]
  },
  {
   "cell_type": "markdown",
   "id": "c65159103c1091bf",
   "metadata": {},
   "source": [
    "Create an image which have mixed red and green pixels."
   ]
  },
  {
   "cell_type": "code",
   "execution_count": 2,
   "id": "58572c3aa0b3220",
   "metadata": {
    "ExecuteTime": {
     "end_time": "2024-07-18T06:12:16.217251Z",
     "start_time": "2024-07-18T06:12:16.153077Z"
    }
   },
   "outputs": [],
   "source": [
    "width, height = 500, 500\n",
    "image_1 = np.zeros((height, width, 3))\n",
    "\n",
    "for y in range(height):\n",
    "    for x in range(width):\n",
    "        if (x + y) % 2 == 0:\n",
    "            image_1[y, x] = [1, 0, 0]  # Red\n",
    "        else:\n",
    "            image_1[y, x] = [0, 1, 0]  # Green"
   ]
  },
  {
   "cell_type": "markdown",
   "id": "bfaad98bcddc7624",
   "metadata": {},
   "source": [
    "Create another image which looks has the similar colour as the first image when looking at them from a distance far enough."
   ]
  },
  {
   "cell_type": "code",
   "execution_count": 3,
   "id": "1d035f1918d09a7e",
   "metadata": {
    "ExecuteTime": {
     "end_time": "2024-07-18T06:12:16.220642Z",
     "start_time": "2024-07-18T06:12:16.217684Z"
    }
   },
   "outputs": [],
   "source": [
    "red = 184\n",
    "green = 174\n",
    "blue = 40\n",
    "\n",
    "image_2 = np.zeros((height, width, 3))\n",
    "image_2[:, :] = [red/255, green/255, blue/255]"
   ]
  },
  {
   "cell_type": "markdown",
   "id": "ec79ea9da49fee41",
   "metadata": {},
   "source": [
    "Finally, show the images. The figures below cannot show the true results due to the auto-interpolation of the computer screen. You have to watch my video to see the experiment. "
   ]
  },
  {
   "cell_type": "code",
   "execution_count": 4,
   "id": "27fdede4b40ff4b4",
   "metadata": {
    "ExecuteTime": {
     "end_time": "2024-07-18T06:12:16.371587Z",
     "start_time": "2024-07-18T06:12:16.221096Z"
    }
   },
   "outputs": [
    {
     "data": {
      "image/png": "[encoded data removed]",
      "text/plain": [
       "<Figure size 1080x540 with 2 Axes>"
      ]
     },
     "metadata": {
      "needs_background": "light"
     },
     "output_type": "display_data"
    }
   ],
   "source": [
    "fig, ax = plt.subplots(1, 2)\n",
    "fig.set_size_inches(15, 7.5)\n",
    "ax[0].imshow(image_1, interpolation='none')\n",
    "ax[0].set_title('Image 1')\n",
    "ax[1].imshow(image_2, interpolation='none')\n",
    "ax[1].set_title('Image 2')\n",
    "plt.show()\n"
   ]
  }
 ],
 "metadata": {
  "kernelspec": {
   "display_name": "Python 3 (ipykernel)",
   "language": "python",
   "name": "python3"
  },
  "language_info": {
   "codemirror_mode": {
    "name": "ipython",
    "version": 3
   },
   "file_extension": ".py",
   "mimetype": "text/x-python",
   "name": "python",
   "nbconvert_exporter": "python",
   "pygments_lexer": "ipython3",
   "version": "3.9.7"
  }
 },
 "nbformat": 4,
 "nbformat_minor": 5
}