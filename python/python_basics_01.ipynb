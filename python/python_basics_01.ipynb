{
 "cells": [
  {
   "cell_type": "markdown",
   "id": "9751315ac831cf52",
   "metadata": {},
   "source": [
    "# Python basics 1: Set up a Python programming environment\n",
    "On this platform, “Python for Science and Art,” I focus on Python programming for scientific research, art, and design. Here, I aim to be interactive and encourage us to share our knowledge with each other. I hope you can learn Python programming in a way that feels useful, easy, and fun."
   ]
  },
  {
   "cell_type": "markdown",
   "id": "69a332dfcf35158d",
   "metadata": {},
   "source": [
    "## Why Python?\n",
    "If you are a student, engineer, scientist, or even an artist, and you want to learn a new programming language, no doubt, you should pick up Python. There are many reasons:\n",
    "\n",
    "    - Simple, easy to learn, and readable\n",
    "    - Available on Windows, macOS, and Unix operating systems\n",
    "    - Large standard library and active community\n",
    "    - Versatile; can be used for a wide range of applications, including web development, data analysis, artificial intelligence, scientific computing, automation, and more\n",
    "    - Free to use\n",
    "\n",
    "Statistics from GitHub and Google show that Python became the most popular programming language in 2020, and its popularity continues to increase."
   ]
  },
  {
   "cell_type": "markdown",
   "id": "e3b1dcf24cff9501",
   "metadata": {},
   "source": [
    "<img src=\"../images/python_sta.jpg\" width=\"500\" height=\"690\" > "
   ]
  },
  {
   "cell_type": "markdown",
   "id": "a73c87446eda00d7",
   "metadata": {},
   "source": [
    "## Install Anaconda and Pycharm\n",
    "Before starting Python programming, we need to set up a good working environment by installing Anaconda and PyCharm.\n",
    "\n",
    "Anaconda® Distribution is a Python/R data science distribution that is free, easy to install, and offers free community support. You can follow the installation instructions on the official website: https://docs.anaconda.com/anaconda/install/index.html.\n",
    "\n",
    "PyCharm is a cross-platform IDE that provides a consistent experience on Windows, macOS, and Linux operating systems. PyCharm is available in three editions: Professional, Community, and Edu. If you are concerned about cost, the free Community edition is sufficient for our topics ((https://www.jetbrains.com/products/compare/?product=pycharm&product=pycharm-ce)).\n",
    "\n",
    "After installing Anaconda and PyCharm, we need to adjust some settings to make our work more comfortable (See my video):\n",
    "\n",
    "    - Add a Python interpreter.\n",
    "    - Play with the Python console.\n",
    "    - Turn on interactive Python, which is more powerful and user-friendly than the standard Python shell.\n",
    "    - Show console variables.\n",
    "    - Create a .py file.\n",
    "    - Run the .py file with the Python console.\n",
    "\n",
    "\n",
    "## Plot a curve\n",
    "Now we write some codes to plot a sine curve"
   ]
  },
  {
   "cell_type": "code",
   "execution_count": 1,
   "id": "42ac1552ed6a666",
   "metadata": {
    "ExecuteTime": {
     "end_time": "2024-07-10T05:42:04.274189Z",
     "start_time": "2024-07-10T05:42:04.043438Z"
    }
   },
   "source": [
    "import numpy as np\n",
    "import matplotlib.pyplot as plt\n",
    "\n",
    "# Generate x values from 0 to 4π\n",
    "x = np.linspace(0, 4 * np.pi, 1000)\n",
    "\n",
    "# Compute the sine of x\n",
    "y = np.sin(x)\n",
    "\n",
    "# Create the plot\n",
    "plt.plot(x, y)\n",
    "\n",
    "# Add title and labels\n",
    "plt.title('Sine Curve')\n",
    "plt.xlabel('x values')\n",
    "plt.ylabel('sin(x)')\n",
    "\n",
    "# Display the plot\n",
    "plt.show()\n"
   ],
   "outputs": []
  },
  {
   "cell_type": "markdown",
   "id": "3898d31ba0c82da6",
   "metadata": {},
   "source": [
    "## Read and show an image\n",
    "Now we read an show an image which is useful for our later programming. "
   ]
  },
  {
   "cell_type": "code",
   "execution_count": 2,
   "id": "38219ab280d3c386",
   "metadata": {
    "ExecuteTime": {
     "end_time": "2024-07-10T05:42:04.346246Z",
     "start_time": "2024-07-10T05:42:04.274772Z"
    }
   },
   "source": [
    "import matplotlib.pyplot as plt\n",
    "\n",
    "\n",
    "# Read the image\n",
    "img = plt.imread('../images/logo_pySi_500x500.png')\n",
    "\n",
    "# Display the image\n",
    "plt.figure()\n",
    "plt.title('Logo of Python for Science and Art')\n",
    "plt.imshow(img)\n",
    "# plt.axis('off')  # Hide axes\n",
    "plt.show()\n"
   ],
   "outputs": []
  },
  {
   "cell_type": "markdown",
   "id": "593787ec7160d902",
   "metadata": {},
   "source": [
    "## Conclusion\n",
    "You have learned many things in this lesson, including\n",
    "- Install Anaconda and Pycharm\n",
    "- The setting of the Pycharm to make your programming easy and fun.\n",
    "- Plot a curve.\n",
    "- Read and show an image.\n",
    "\n",
    "I hope you like my lesson and subscribe my YouTube Channel."
   ]
  }
 ],
 "metadata": {
  "kernelspec": {
   "display_name": "Python 3 (ipykernel)",
   "language": "python",
   "name": "python3"
  },
  "language_info": {
   "codemirror_mode": {
    "name": "ipython",
    "version": 3
   },
   "file_extension": ".py",
   "mimetype": "text/x-python",
   "name": "python",
   "nbconvert_exporter": "python",
   "pygments_lexer": "ipython3",
   "version": "3.11.5"
  }
 },
 "nbformat": 4,
 "nbformat_minor": 5
}
