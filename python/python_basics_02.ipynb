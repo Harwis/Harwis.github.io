{
 "cells": [
  {
   "cell_type": "markdown",
   "id": "629df621f7e5f466",
   "metadata": {},
   "source": [
    "In python programming, there are several different types of variables which have different applications. \n",
    "\n",
    "    Text Type: str \n",
    "\n",
    "    Numeric Types: int, float, complex \n",
    "\n",
    "    Sequence Types: list, tuple, range \n",
    "\n",
    "    Dictionary Type: dict \n",
    "\n",
    "    Set Types: set, frozenset \n",
    "\n",
    "    Boolean Type: bool \n",
    "\n",
    "    Binary Types: bytes, bytearray, memoryview \n",
    "\n",
    "    None Type: NoneType \n",
    "\n",
    "Today we start with str."
   ]
  },
  {
   "cell_type": "code",
   "id": "bfd7c79926093865",
   "metadata": {
    "ExecuteTime": {
     "end_time": "2024-07-10T07:40:06.024734Z",
     "start_time": "2024-07-10T07:40:06.021480Z"
    }
   },
   "source": [
    "text = \"Hello Tea rabbit!\"\n",
    "print(text)\n",
    "print(type(text))"
   ],
   "outputs": [
    {
     "name": "stdout",
     "output_type": "stream",
     "text": [
      "Hello Tea rabbit!\n",
      "<class 'str'>\n"
     ]
    }
   ],
   "execution_count": 1
  },
  {
   "cell_type": "markdown",
   "id": "60742608458c9997",
   "metadata": {},
   "source": [
    "If we want to make the output easy to read, we can modify the print function a little bit. Strings can be concatenated (glued together) with the + operator,"
   ]
  },
  {
   "cell_type": "code",
   "id": "797607ccac408d73",
   "metadata": {
    "ExecuteTime": {
     "end_time": "2024-07-10T07:40:06.032469Z",
     "start_time": "2024-07-10T07:40:06.031066Z"
    }
   },
   "source": [
    "print('The text is:' + text)\n",
    "print('The type of text is:' )\n",
    "print(type(text))"
   ],
   "outputs": [
    {
     "name": "stdout",
     "output_type": "stream",
     "text": [
      "The text is:Hello Tea rabbit!\n",
      "The type of text is:\n",
      "<class 'str'>\n"
     ]
    }
   ],
   "execution_count": 2
  },
  {
   "cell_type": "markdown",
   "id": "7933866d8b62bff6",
   "metadata": {},
   "source": [
    "Note that in Python programming, a string can be defined by single quotation marks or double quotation marks. If you put a number inside a quotation mark, Python treats it as a string. Let see the different of x and y"
   ]
  },
  {
   "cell_type": "code",
   "id": "19500c1097aaf9f",
   "metadata": {
    "ExecuteTime": {
     "end_time": "2024-07-10T07:40:06.040952Z",
     "start_time": "2024-07-10T07:40:06.032889Z"
    }
   },
   "source": [
    "x = '1'\n",
    "y = 1\n",
    "print('The type of x is ' )\n",
    "print(type(x))\n",
    "print('The type of y is ')\n",
    "print(type(y))"
   ],
   "outputs": [
    {
     "name": "stdout",
     "output_type": "stream",
     "text": [
      "The type of x is \n",
      "<class 'str'>\n",
      "The type of y is \n",
      "<class 'int'>\n"
     ]
    }
   ],
   "execution_count": 3
  },
  {
   "cell_type": "markdown",
   "id": "3646333604db44e3",
   "metadata": {},
   "source": [
    "Sometimes, we want to print a string including a quotation mark. For example, we want to print: doesn't. If you use command:\n",
    "print('doesn't')\n",
    "you might get error:\n",
    "SyntaxError: invalid syntax. Perhaps you forgot a comma?\n",
    "\n",
    "One of the solution is to use double quotation to define a string."
   ]
  },
  {
   "cell_type": "code",
   "id": "17005bcfc6c131cb",
   "metadata": {
    "ExecuteTime": {
     "end_time": "2024-07-10T07:40:06.048068Z",
     "start_time": "2024-07-10T07:40:06.041384Z"
    }
   },
   "source": [
    "print(\"doesn't\")"
   ],
   "outputs": [
    {
     "name": "stdout",
     "output_type": "stream",
     "text": [
      "doesn't\n"
     ]
    }
   ],
   "execution_count": 4
  },
  {
   "cell_type": "markdown",
   "id": "fa6959be7d97e7e7",
   "metadata": {},
   "source": [
    "Another solution is to \"escape\" it by preceding it with the back slash symble."
   ]
  },
  {
   "cell_type": "code",
   "id": "79a46c092320a019",
   "metadata": {
    "ExecuteTime": {
     "end_time": "2024-07-10T07:40:06.055321Z",
     "start_time": "2024-07-10T07:40:06.048567Z"
    }
   },
   "source": [
    "print('doesn\\'t')"
   ],
   "outputs": [
    {
     "name": "stdout",
     "output_type": "stream",
     "text": [
      "doesn't\n"
     ]
    }
   ],
   "execution_count": 5
  },
  {
   "cell_type": "markdown",
   "id": "1b5b833da82ed72f",
   "metadata": {},
   "source": [
    "Let's try another example:\n",
    "We want to print: \"I am good!\" he said"
   ]
  },
  {
   "cell_type": "markdown",
   "id": "2a764d37c3793907",
   "metadata": {},
   "source": [
    "In this case, we can use single quotation to define the string."
   ]
  },
  {
   "cell_type": "code",
   "id": "b62adccc354ff098",
   "metadata": {
    "ExecuteTime": {
     "end_time": "2024-07-10T07:40:06.062546Z",
     "start_time": "2024-07-10T07:40:06.055656Z"
    }
   },
   "source": [
    "print('\"I am good!\" he said')"
   ],
   "outputs": [
    {
     "name": "stdout",
     "output_type": "stream",
     "text": [
      "\"I am good!\" he said\n"
     ]
    }
   ],
   "execution_count": 6
  },
  {
   "cell_type": "markdown",
   "id": "c984a16255fcb77f",
   "metadata": {},
   "source": [
    "Or we can use \\ to escape the quotation mark in the string. "
   ]
  },
  {
   "cell_type": "code",
   "id": "7cee17235c6d7b45",
   "metadata": {
    "ExecuteTime": {
     "end_time": "2024-07-10T07:40:06.070796Z",
     "start_time": "2024-07-10T07:40:06.062834Z"
    }
   },
   "source": [
    "print(\"\\\"I am good!\\\" he said\")"
   ],
   "outputs": [
    {
     "name": "stdout",
     "output_type": "stream",
     "text": [
      "\"I am good!\" he said\n"
     ]
    }
   ],
   "execution_count": 7
  },
  {
   "cell_type": "markdown",
   "id": "68e0630d521f90fe",
   "metadata": {},
   "source": [
    "In a string, \\n means starting a new line. "
   ]
  },
  {
   "cell_type": "code",
   "id": "43e8466511834e97",
   "metadata": {
    "ExecuteTime": {
     "end_time": "2024-07-10T07:40:06.078007Z",
     "start_time": "2024-07-10T07:40:06.071130Z"
    }
   },
   "source": [
    "print('Hello Tea rabbit.\\nHow are you?')"
   ],
   "outputs": [
    {
     "name": "stdout",
     "output_type": "stream",
     "text": [
      "Hello Tea rabbit.\n",
      "How are you?\n"
     ]
    }
   ],
   "execution_count": 8
  },
  {
   "cell_type": "markdown",
   "id": "9bd4ac4045007e1",
   "metadata": {},
   "source": [
    "We need to print a digital variable."
   ]
  },
  {
   "cell_type": "code",
   "id": "b9ba5d350a4587a5",
   "metadata": {
    "ExecuteTime": {
     "end_time": "2024-07-10T07:40:06.085439Z",
     "start_time": "2024-07-10T07:40:06.078331Z"
    }
   },
   "source": [
    "pi=3.14\n",
    "print('The value of pi is ', pi)"
   ],
   "outputs": [
    {
     "name": "stdout",
     "output_type": "stream",
     "text": [
      "The value of pi is  3.14\n"
     ]
    }
   ],
   "execution_count": 9
  },
  {
   "cell_type": "markdown",
   "id": "e7009ead7c8b4995",
   "metadata": {},
   "source": [
    "We want to print a digital varialbe in a string with a kind of format. There are several ways to do that and here is the most simple one.   "
   ]
  },
  {
   "cell_type": "code",
   "id": "bb9aa179d21a8a2d",
   "metadata": {
    "ExecuteTime": {
     "end_time": "2024-07-10T07:40:06.093151Z",
     "start_time": "2024-07-10T07:40:06.086014Z"
    }
   },
   "source": [
    "pi = 3.1415926\n",
    "print(\"PI = %.4f\" % pi)"
   ],
   "outputs": [
    {
     "name": "stdout",
     "output_type": "stream",
     "text": [
      "PI = 3.1416\n"
     ]
    }
   ],
   "execution_count": 10
  },
  {
   "cell_type": "markdown",
   "id": "6f5f9b3702a050d2",
   "metadata": {},
   "source": [
    "We need to print two or more digital variable in a string. "
   ]
  },
  {
   "cell_type": "code",
   "id": "9aa25435bafb5288",
   "metadata": {
    "ExecuteTime": {
     "end_time": "2024-07-10T07:40:06.101628Z",
     "start_time": "2024-07-10T07:40:06.093451Z"
    }
   },
   "source": [
    "a = 0.123\n",
    "b = 2.345\n",
    "\n",
    "print('a=%.2f b=%.2f'% (a,b))"
   ],
   "outputs": [
    {
     "name": "stdout",
     "output_type": "stream",
     "text": [
      "a=0.12 b=2.35\n"
     ]
    }
   ],
   "execution_count": 11
  },
  {
   "cell_type": "markdown",
   "id": "48a02a01017a4d30",
   "metadata": {},
   "source": [
    "We can print string in multiple lines using triple-quotes \"\"\"...\"\"\" or '''...''''"
   ]
  },
  {
   "cell_type": "code",
   "id": "58d7580729bc065d",
   "metadata": {
    "ExecuteTime": {
     "end_time": "2024-07-10T07:40:06.109172Z",
     "start_time": "2024-07-10T07:40:06.101970Z"
    }
   },
   "source": [
    "\n",
    "print('''\n",
    "      Age   height\n",
    "Tom   10    165 cm\n",
    "Mike  11    170 cm\n",
    "''')"
   ],
   "outputs": [
    {
     "name": "stdout",
     "output_type": "stream",
     "text": [
      "\n",
      "      Age   height\n",
      "Tom   10    165 cm\n",
      "Mike  11    170 cm\n",
      "\n"
     ]
    }
   ],
   "execution_count": 12
  }
 ],
 "metadata": {
  "kernelspec": {
   "display_name": "Python 3 (ipykernel)",
   "language": "python",
   "name": "python3"
  },
  "language_info": {
   "codemirror_mode": {
    "name": "ipython",
    "version": 3
   },
   "file_extension": ".py",
   "mimetype": "text/x-python",
   "name": "python",
   "nbconvert_exporter": "python",
   "pygments_lexer": "ipython3",
   "version": "3.11.5"
  }
 },
 "nbformat": 4,
 "nbformat_minor": 5
}
