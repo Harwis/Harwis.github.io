{
 "cells": [
  {
   "cell_type": "markdown",
   "id": "28d675a9c95e3ade",
   "metadata": {},
   "source": [
    "Today, we are going to talk about int and float number in Python. \n",
    "\n",
    "    int (Integer):\n",
    "        Represents integer numbers (positive, negative, or zero).\n",
    "        Does not have a fractional part.\n",
    "        Examples: -5, 0, 42.\n",
    "        Used for counting, indexing, and other discrete values.\n",
    "\n",
    "    float (Floating-Point):\n",
    "        Represents real numbers with a fractional part.\n",
    "        Uses decimal notation (e.g., 3.14, -0.5, 1.23e-4).\n",
    "        Allows for precision up to a certain number of decimal places.\n",
    "        Used for scientific calculations, measurements, and continuous values.\n",
    "        \n",
    "In Python 2, the maximum value a Python int can hold is 65535. If a value exceeds this limit, it becomes a long type. Python 3 no longer distinguishes between int and long. All integer values are handled by the int class. The size of an int in Python 3 depends on the system architecture. In 32-bit systems, it can be gigabytes, and in 64-bit systems, it can be exabytes.\n"
   ]
  },
  {
   "cell_type": "code",
   "execution_count": 1,
   "id": "7d59f4bd2a73e676",
   "metadata": {
    "ExecuteTime": {
     "end_time": "2024-07-10T07:40:19.312202Z",
     "start_time": "2024-07-10T07:40:19.309134Z"
    }
   },
   "outputs": [
    {
     "name": "stdout",
     "output_type": "stream",
     "text": [
      "The type of a: <class 'int'>\n",
      "The type of b: <class 'float'>\n"
     ]
    }
   ],
   "source": [
    "a = 1\n",
    "b = 1.1\n",
    "print('The type of a:', type(a))\n",
    "print('The type of b:', type(b))"
   ]
  },
  {
   "cell_type": "markdown",
   "id": "bc8a3d7c1207c25c",
   "metadata": {},
   "source": [
    "We'd better use scientific notation of float number. For example, 1.1e5 means 1.1 × 10^5, 1.1 multiplied by 10 raised to the power of 5. "
   ]
  },
  {
   "cell_type": "code",
   "execution_count": 2,
   "id": "c6101ad23a9b42b4",
   "metadata": {
    "ExecuteTime": {
     "end_time": "2024-07-10T07:40:19.319781Z",
     "start_time": "2024-07-10T07:40:19.317776Z"
    }
   },
   "outputs": [
    {
     "name": "stdout",
     "output_type": "stream",
     "text": [
      "b =  110000.0\n"
     ]
    }
   ],
   "source": [
    "b = 1.1e5\n",
    "print('b = ', b)"
   ]
  },
  {
   "cell_type": "markdown",
   "id": "6f4078ff4a20bb2e",
   "metadata": {},
   "source": [
    "You can convert a float number to a integer by using the int function int() "
   ]
  },
  {
   "cell_type": "code",
   "execution_count": 3,
   "id": "c12c531bc2f35359",
   "metadata": {
    "ExecuteTime": {
     "end_time": "2024-07-10T07:40:19.356809Z",
     "start_time": "2024-07-10T07:40:19.355413Z"
    }
   },
   "outputs": [
    {
     "name": "stdout",
     "output_type": "stream",
     "text": [
      "a =  3\n",
      "The type of a is \n",
      "<class 'int'>\n"
     ]
    }
   ],
   "source": [
    "a = int(3.14)\n",
    "print('a = ', a)\n",
    "print('The type of a is ')\n",
    "print(type(a))"
   ]
  },
  {
   "cell_type": "markdown",
   "id": "8b7c1225cffe5c38",
   "metadata": {},
   "source": [
    "or vice versus"
   ]
  },
  {
   "cell_type": "code",
   "execution_count": 4,
   "id": "2229fec58c0c09c9",
   "metadata": {
    "ExecuteTime": {
     "end_time": "2024-07-10T07:40:19.364538Z",
     "start_time": "2024-07-10T07:40:19.357244Z"
    }
   },
   "outputs": [
    {
     "name": "stdout",
     "output_type": "stream",
     "text": [
      "a =  3.0\n",
      "The type of a is \n",
      "<class 'float'>\n"
     ]
    }
   ],
   "source": [
    "a = float(3)\n",
    "print('a = ', a)\n",
    "print('The type of a is ')\n",
    "print(type(a))"
   ]
  },
  {
   "cell_type": "markdown",
   "id": "8732ff2caa096351",
   "metadata": {},
   "source": [
    "You can also convert a integer number in the format of string to int format."
   ]
  },
  {
   "cell_type": "code",
   "execution_count": 5,
   "id": "2636cb52f809fa29",
   "metadata": {
    "ExecuteTime": {
     "end_time": "2024-07-10T07:40:19.372924Z",
     "start_time": "2024-07-10T07:40:19.364833Z"
    }
   },
   "outputs": [
    {
     "name": "stdout",
     "output_type": "stream",
     "text": [
      "a =  3\n",
      "The type of a is \n",
      "<class 'int'>\n"
     ]
    }
   ],
   "source": [
    "a = int('3')\n",
    "print('a = ', a)\n",
    "print('The type of a is ')\n",
    "print(type(a))"
   ]
  },
  {
   "cell_type": "markdown",
   "id": "fb2ad3a952a2e201",
   "metadata": {},
   "source": [
    "We can convert a number to a string"
   ]
  },
  {
   "cell_type": "code",
   "execution_count": 6,
   "id": "9e718b193de3d820",
   "metadata": {
    "ExecuteTime": {
     "end_time": "2024-07-10T07:40:19.380171Z",
     "start_time": "2024-07-10T07:40:19.373383Z"
    }
   },
   "outputs": [
    {
     "name": "stdout",
     "output_type": "stream",
     "text": [
      "My string is 3.14\n",
      "The type of my_str is \n",
      "<class 'str'>\n"
     ]
    }
   ],
   "source": [
    "my_str = str(3.14)\n",
    "print('My string is ' + my_str)\n",
    "print('The type of my_str is ')\n",
    "print(type(my_str))"
   ]
  },
  {
   "cell_type": "markdown",
   "id": "93134ccffdecbce2",
   "metadata": {},
   "source": [
    "Finally, we use the formular of caculating the area of a circle to finish the lesson. "
   ]
  },
  {
   "cell_type": "code",
   "execution_count": 7,
   "id": "ba2f09b531b045c2",
   "metadata": {
    "ExecuteTime": {
     "end_time": "2024-07-10T07:40:19.387396Z",
     "start_time": "2024-07-10T07:40:19.380464Z"
    }
   },
   "outputs": [
    {
     "name": "stdout",
     "output_type": "stream",
     "text": [
      "When R =  2, the area is 12.56\n"
     ]
    }
   ],
   "source": [
    "pi = 3.14\n",
    "r = 2\n",
    "area = pi *  r ** 2\n",
    "print('When R =  %.d, the area is %.2f' % (r, area))"
   ]
  },
  {
   "cell_type": "markdown",
   "id": "f2e7d0849bdac398",
   "metadata": {},
   "source": [
    "We have learned int and float numbers in Python, and how to convert the data type from each other. In the next lesson, we will move to creating Complex Numbers."
   ]
  }
 ],
 "metadata": {
  "kernelspec": {
   "display_name": "Python 3 (ipykernel)",
   "language": "python",
   "name": "python3"
  },
  "language_info": {
   "codemirror_mode": {
    "name": "ipython",
    "version": 3
   },
   "file_extension": ".py",
   "mimetype": "text/x-python",
   "name": "python",
   "nbconvert_exporter": "python",
   "pygments_lexer": "ipython3",
   "version": "3.11.5"
  }
 },
 "nbformat": 4,
 "nbformat_minor": 5
}
